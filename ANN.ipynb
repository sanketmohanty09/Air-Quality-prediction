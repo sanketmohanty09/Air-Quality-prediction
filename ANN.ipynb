{
 "cells": [
  {
   "cell_type": "markdown",
   "metadata": {},
   "source": [
    "## Artificial Neural Network"
   ]
  },
  {
   "cell_type": "code",
   "execution_count": 1,
   "metadata": {},
   "outputs": [],
   "source": [
    "import pandas as pd\n",
    "import numpy as np\n",
    "import matplotlib.pyplot as plt\n",
    "import seaborn as sns"
   ]
  },
  {
   "cell_type": "code",
   "execution_count": 2,
   "metadata": {},
   "outputs": [],
   "source": [
    "df=pd.read_csv('Data/Real-Data/Real_Combine.csv')\n",
    "\n"
   ]
  },
  {
   "cell_type": "code",
   "execution_count": 3,
   "metadata": {},
   "outputs": [
    {
     "data": {
      "text/plain": [
       "(1093, 9)"
      ]
     },
     "execution_count": 3,
     "metadata": {},
     "output_type": "execute_result"
    }
   ],
   "source": [
    "df.shape"
   ]
  },
  {
   "cell_type": "code",
   "execution_count": 5,
   "metadata": {},
   "outputs": [],
   "source": [
    "df=df.dropna()"
   ]
  },
  {
   "cell_type": "code",
   "execution_count": 6,
   "metadata": {},
   "outputs": [],
   "source": [
    "X=df.iloc[:,:-1] ## independent features\n",
    "y=df.iloc[:,-1] ## dependent features"
   ]
  },
  {
   "cell_type": "code",
   "execution_count": 7,
   "metadata": {},
   "outputs": [
    {
     "data": {
      "text/html": [
       "<div>\n",
       "<style scoped>\n",
       "    .dataframe tbody tr th:only-of-type {\n",
       "        vertical-align: middle;\n",
       "    }\n",
       "\n",
       "    .dataframe tbody tr th {\n",
       "        vertical-align: top;\n",
       "    }\n",
       "\n",
       "    .dataframe thead th {\n",
       "        text-align: right;\n",
       "    }\n",
       "</style>\n",
       "<table border=\"1\" class=\"dataframe\">\n",
       "  <thead>\n",
       "    <tr style=\"text-align: right;\">\n",
       "      <th></th>\n",
       "      <th>T</th>\n",
       "      <th>TM</th>\n",
       "      <th>Tm</th>\n",
       "      <th>SLP</th>\n",
       "      <th>H</th>\n",
       "      <th>VV</th>\n",
       "      <th>V</th>\n",
       "      <th>VM</th>\n",
       "      <th>PM 2.5</th>\n",
       "    </tr>\n",
       "  </thead>\n",
       "  <tbody>\n",
       "    <tr>\n",
       "      <th>T</th>\n",
       "      <td>1.000000</td>\n",
       "      <td>0.967536</td>\n",
       "      <td>0.953719</td>\n",
       "      <td>-0.881409</td>\n",
       "      <td>-0.509299</td>\n",
       "      <td>0.640792</td>\n",
       "      <td>0.301994</td>\n",
       "      <td>0.287738</td>\n",
       "      <td>-0.631462</td>\n",
       "    </tr>\n",
       "    <tr>\n",
       "      <th>TM</th>\n",
       "      <td>0.967536</td>\n",
       "      <td>1.000000</td>\n",
       "      <td>0.892031</td>\n",
       "      <td>-0.822958</td>\n",
       "      <td>-0.586681</td>\n",
       "      <td>0.606945</td>\n",
       "      <td>0.292949</td>\n",
       "      <td>0.297011</td>\n",
       "      <td>-0.568409</td>\n",
       "    </tr>\n",
       "    <tr>\n",
       "      <th>Tm</th>\n",
       "      <td>0.953719</td>\n",
       "      <td>0.892031</td>\n",
       "      <td>1.000000</td>\n",
       "      <td>-0.917518</td>\n",
       "      <td>-0.287357</td>\n",
       "      <td>0.577240</td>\n",
       "      <td>0.296225</td>\n",
       "      <td>0.266782</td>\n",
       "      <td>-0.673824</td>\n",
       "    </tr>\n",
       "    <tr>\n",
       "      <th>SLP</th>\n",
       "      <td>-0.881409</td>\n",
       "      <td>-0.822958</td>\n",
       "      <td>-0.917518</td>\n",
       "      <td>1.000000</td>\n",
       "      <td>0.240256</td>\n",
       "      <td>-0.517915</td>\n",
       "      <td>-0.329838</td>\n",
       "      <td>-0.310704</td>\n",
       "      <td>0.623187</td>\n",
       "    </tr>\n",
       "    <tr>\n",
       "      <th>H</th>\n",
       "      <td>-0.509299</td>\n",
       "      <td>-0.586681</td>\n",
       "      <td>-0.287357</td>\n",
       "      <td>0.240256</td>\n",
       "      <td>1.000000</td>\n",
       "      <td>-0.465374</td>\n",
       "      <td>-0.380575</td>\n",
       "      <td>-0.362177</td>\n",
       "      <td>0.138005</td>\n",
       "    </tr>\n",
       "    <tr>\n",
       "      <th>VV</th>\n",
       "      <td>0.640792</td>\n",
       "      <td>0.606945</td>\n",
       "      <td>0.577240</td>\n",
       "      <td>-0.517915</td>\n",
       "      <td>-0.465374</td>\n",
       "      <td>1.000000</td>\n",
       "      <td>0.376873</td>\n",
       "      <td>0.342442</td>\n",
       "      <td>-0.573941</td>\n",
       "    </tr>\n",
       "    <tr>\n",
       "      <th>V</th>\n",
       "      <td>0.301994</td>\n",
       "      <td>0.292949</td>\n",
       "      <td>0.296225</td>\n",
       "      <td>-0.329838</td>\n",
       "      <td>-0.380575</td>\n",
       "      <td>0.376873</td>\n",
       "      <td>1.000000</td>\n",
       "      <td>0.775655</td>\n",
       "      <td>-0.268530</td>\n",
       "    </tr>\n",
       "    <tr>\n",
       "      <th>VM</th>\n",
       "      <td>0.287738</td>\n",
       "      <td>0.297011</td>\n",
       "      <td>0.266782</td>\n",
       "      <td>-0.310704</td>\n",
       "      <td>-0.362177</td>\n",
       "      <td>0.342442</td>\n",
       "      <td>0.775655</td>\n",
       "      <td>1.000000</td>\n",
       "      <td>-0.215854</td>\n",
       "    </tr>\n",
       "    <tr>\n",
       "      <th>PM 2.5</th>\n",
       "      <td>-0.631462</td>\n",
       "      <td>-0.568409</td>\n",
       "      <td>-0.673824</td>\n",
       "      <td>0.623187</td>\n",
       "      <td>0.138005</td>\n",
       "      <td>-0.573941</td>\n",
       "      <td>-0.268530</td>\n",
       "      <td>-0.215854</td>\n",
       "      <td>1.000000</td>\n",
       "    </tr>\n",
       "  </tbody>\n",
       "</table>\n",
       "</div>"
      ],
      "text/plain": [
       "               T        TM        Tm       SLP         H        VV         V  \\\n",
       "T       1.000000  0.967536  0.953719 -0.881409 -0.509299  0.640792  0.301994   \n",
       "TM      0.967536  1.000000  0.892031 -0.822958 -0.586681  0.606945  0.292949   \n",
       "Tm      0.953719  0.892031  1.000000 -0.917518 -0.287357  0.577240  0.296225   \n",
       "SLP    -0.881409 -0.822958 -0.917518  1.000000  0.240256 -0.517915 -0.329838   \n",
       "H      -0.509299 -0.586681 -0.287357  0.240256  1.000000 -0.465374 -0.380575   \n",
       "VV      0.640792  0.606945  0.577240 -0.517915 -0.465374  1.000000  0.376873   \n",
       "V       0.301994  0.292949  0.296225 -0.329838 -0.380575  0.376873  1.000000   \n",
       "VM      0.287738  0.297011  0.266782 -0.310704 -0.362177  0.342442  0.775655   \n",
       "PM 2.5 -0.631462 -0.568409 -0.673824  0.623187  0.138005 -0.573941 -0.268530   \n",
       "\n",
       "              VM    PM 2.5  \n",
       "T       0.287738 -0.631462  \n",
       "TM      0.297011 -0.568409  \n",
       "Tm      0.266782 -0.673824  \n",
       "SLP    -0.310704  0.623187  \n",
       "H      -0.362177  0.138005  \n",
       "VV      0.342442 -0.573941  \n",
       "V       0.775655 -0.268530  \n",
       "VM      1.000000 -0.215854  \n",
       "PM 2.5 -0.215854  1.000000  "
      ]
     },
     "execution_count": 7,
     "metadata": {},
     "output_type": "execute_result"
    }
   ],
   "source": [
    "df.corr()"
   ]
  },
  {
   "cell_type": "markdown",
   "metadata": {},
   "source": [
    "### ANN"
   ]
  },
  {
   "cell_type": "code",
   "execution_count": 8,
   "metadata": {},
   "outputs": [
    {
     "name": "stderr",
     "output_type": "stream",
     "text": [
      "D:\\Users\\ASUS\\anaconda3\\envs\\tensorflow\\lib\\site-packages\\seaborn\\distributions.py:2557: FutureWarning: `distplot` is a deprecated function and will be removed in a future version. Please adapt your code to use either `displot` (a figure-level function with similar flexibility) or `histplot` (an axes-level function for histograms).\n",
      "  warnings.warn(msg, FutureWarning)\n"
     ]
    },
    {
     "data": {
      "text/plain": [
       "<AxesSubplot:xlabel='PM 2.5', ylabel='Density'>"
      ]
     },
     "execution_count": 8,
     "metadata": {},
     "output_type": "execute_result"
    },
    {
     "data": {
      "image/png": "[encoded data removed]",
      "text/plain": [
       "<Figure size 432x288 with 1 Axes>"
      ]
     },
     "metadata": {
      "needs_background": "light"
     },
     "output_type": "display_data"
    }
   ],
   "source": [
    "sns.distplot(y)"
   ]
  },
  {
   "cell_type": "markdown",
   "metadata": {},
   "source": [
    "### Train Test split"
   ]
  },
  {
   "cell_type": "code",
   "execution_count": 9,
   "metadata": {},
   "outputs": [],
   "source": [
    "from sklearn.model_selection import train_test_split\n",
    "X_train, X_test, y_train, y_test = train_test_split(X, y, test_size=0.3, random_state=0)"
   ]
  },
  {
   "cell_type": "code",
   "execution_count": 10,
   "metadata": {},
   "outputs": [],
   "source": [
    "# Part 2 - Now let's make the ANN!\n",
    "\n",
    "# Importing the Keras libraries and packages\n",
    "import keras\n",
    "from keras.models import Sequential\n",
    "from keras.layers import Dense\n",
    "from keras.layers import LeakyReLU,PReLU,ELU\n",
    "from keras.layers import Dropout"
   ]
  },
  {
   "cell_type": "code",
   "execution_count": 12,
   "metadata": {},
   "outputs": [
    {
     "name": "stdout",
     "output_type": "stream",
     "text": [
      "Model: \"sequential_1\"\n",
      "_________________________________________________________________\n",
      "Layer (type)                 Output Shape              Param #   \n",
      "=================================================================\n",
      "dense_5 (Dense)              (None, 128)               1152      \n",
      "_________________________________________________________________\n",
      "dense_6 (Dense)              (None, 256)               33024     \n",
      "_________________________________________________________________\n",
      "dense_7 (Dense)              (None, 256)               65792     \n",
      "_________________________________________________________________\n",
      "dense_8 (Dense)              (None, 256)               65792     \n",
      "_________________________________________________________________\n",
      "dense_9 (Dense)              (None, 1)                 257       \n",
      "=================================================================\n",
      "Total params: 166,017\n",
      "Trainable params: 166,017\n",
      "Non-trainable params: 0\n",
      "_________________________________________________________________\n",
      "Epoch 1/100\n",
      "52/52 [==============================] - 1s 12ms/step - loss: 69.0695 - mean_absolute_error: 69.0695 - val_loss: 64.8010 - val_mean_absolute_error: 64.8010\n",
      "Epoch 2/100\n",
      "52/52 [==============================] - 0s 5ms/step - loss: 66.7138 - mean_absolute_error: 66.7138 - val_loss: 63.7494 - val_mean_absolute_error: 63.7494\n",
      "Epoch 3/100\n",
      "52/52 [==============================] - 0s 5ms/step - loss: 64.2378 - mean_absolute_error: 64.2379 - val_loss: 63.8461 - val_mean_absolute_error: 63.8461\n",
      "Epoch 4/100\n",
      "52/52 [==============================] - 0s 6ms/step - loss: 59.4046 - mean_absolute_error: 59.4046 - val_loss: 54.2770 - val_mean_absolute_error: 54.2770\n",
      "Epoch 5/100\n",
      "52/52 [==============================] - 0s 5ms/step - loss: 54.9428 - mean_absolute_error: 54.9428 - val_loss: 47.4281 - val_mean_absolute_error: 47.4281\n",
      "Epoch 6/100\n",
      "52/52 [==============================] - 0s 4ms/step - loss: 47.2883 - mean_absolute_error: 47.2883 - val_loss: 46.6948 - val_mean_absolute_error: 46.6948\n",
      "Epoch 7/100\n",
      "52/52 [==============================] - 0s 5ms/step - loss: 45.0110 - mean_absolute_error: 45.0110 - val_loss: 45.5842 - val_mean_absolute_error: 45.5842\n",
      "Epoch 8/100\n",
      "52/52 [==============================] - ETA: 0s - loss: 44.1034 - mean_absolute_error: 44.103 - 0s 5ms/step - loss: 44.0050 - mean_absolute_error: 44.0050 - val_loss: 53.9072 - val_mean_absolute_error: 53.9072\n",
      "Epoch 9/100\n",
      "52/52 [==============================] - 0s 5ms/step - loss: 48.3228 - mean_absolute_error: 48.3228 - val_loss: 46.9714 - val_mean_absolute_error: 46.9714\n",
      "Epoch 10/100\n",
      "52/52 [==============================] - 0s 5ms/step - loss: 45.0895 - mean_absolute_error: 45.0895 - val_loss: 45.1728 - val_mean_absolute_error: 45.1728\n",
      "Epoch 11/100\n",
      "52/52 [==============================] - 0s 5ms/step - loss: 43.5656 - mean_absolute_error: 43.5656 - val_loss: 45.0220 - val_mean_absolute_error: 45.0220\n",
      "Epoch 12/100\n",
      "52/52 [==============================] - 0s 6ms/step - loss: 43.5472 - mean_absolute_error: 43.5472 - val_loss: 46.5725 - val_mean_absolute_error: 46.5725\n",
      "Epoch 13/100\n",
      "52/52 [==============================] - 0s 5ms/step - loss: 45.7744 - mean_absolute_error: 45.7744 - val_loss: 49.3037 - val_mean_absolute_error: 49.3037\n",
      "Epoch 14/100\n",
      "52/52 [==============================] - 0s 5ms/step - loss: 43.8120 - mean_absolute_error: 43.8120 - val_loss: 44.9613 - val_mean_absolute_error: 44.9613\n",
      "Epoch 15/100\n",
      "52/52 [==============================] - 0s 5ms/step - loss: 43.0585 - mean_absolute_error: 43.0585 - val_loss: 45.1166 - val_mean_absolute_error: 45.1166\n",
      "Epoch 16/100\n",
      "52/52 [==============================] - 0s 5ms/step - loss: 44.5364 - mean_absolute_error: 44.5364 - val_loss: 47.1357 - val_mean_absolute_error: 47.1357\n",
      "Epoch 17/100\n",
      "52/52 [==============================] - 0s 5ms/step - loss: 43.0996 - mean_absolute_error: 43.0996 - val_loss: 45.0832 - val_mean_absolute_error: 45.0832\n",
      "Epoch 18/100\n",
      "52/52 [==============================] - 0s 5ms/step - loss: 43.3054 - mean_absolute_error: 43.3054 - val_loss: 49.0050 - val_mean_absolute_error: 49.0050\n",
      "Epoch 19/100\n",
      "52/52 [==============================] - 0s 5ms/step - loss: 43.6510 - mean_absolute_error: 43.6510 - val_loss: 46.1242 - val_mean_absolute_error: 46.1242\n",
      "Epoch 20/100\n",
      "52/52 [==============================] - 0s 4ms/step - loss: 43.3929 - mean_absolute_error: 43.3929 - val_loss: 46.1432 - val_mean_absolute_error: 46.1432\n",
      "Epoch 21/100\n",
      "52/52 [==============================] - 0s 5ms/step - loss: 42.7623 - mean_absolute_error: 42.7623 - val_loss: 49.7834 - val_mean_absolute_error: 49.7834\n",
      "Epoch 22/100\n",
      "52/52 [==============================] - 0s 5ms/step - loss: 43.5790 - mean_absolute_error: 43.5790 - val_loss: 46.6392 - val_mean_absolute_error: 46.6392\n",
      "Epoch 23/100\n",
      "52/52 [==============================] - 0s 5ms/step - loss: 41.9037 - mean_absolute_error: 41.9037 - val_loss: 50.3886 - val_mean_absolute_error: 50.3886\n",
      "Epoch 24/100\n",
      "52/52 [==============================] - 0s 4ms/step - loss: 42.8425 - mean_absolute_error: 42.8425 - val_loss: 45.3157 - val_mean_absolute_error: 45.3157\n",
      "Epoch 25/100\n",
      "52/52 [==============================] - 0s 5ms/step - loss: 40.6886 - mean_absolute_error: 40.6886 - val_loss: 44.9472 - val_mean_absolute_error: 44.9472\n",
      "Epoch 26/100\n",
      "52/52 [==============================] - 0s 4ms/step - loss: 41.0340 - mean_absolute_error: 41.0340 - val_loss: 46.1915 - val_mean_absolute_error: 46.1915\n",
      "Epoch 27/100\n",
      "52/52 [==============================] - 0s 4ms/step - loss: 42.6058 - mean_absolute_error: 42.6058 - val_loss: 44.9259 - val_mean_absolute_error: 44.9259\n",
      "Epoch 28/100\n",
      "52/52 [==============================] - 0s 6ms/step - loss: 43.7789 - mean_absolute_error: 43.7789 - val_loss: 44.6796 - val_mean_absolute_error: 44.6796\n",
      "Epoch 29/100\n",
      "52/52 [==============================] - 0s 5ms/step - loss: 43.6909 - mean_absolute_error: 43.6909 - val_loss: 50.5540 - val_mean_absolute_error: 50.5540\n",
      "Epoch 30/100\n",
      "52/52 [==============================] - 0s 4ms/step - loss: 43.2851 - mean_absolute_error: 43.2851 - val_loss: 45.1182 - val_mean_absolute_error: 45.1182\n",
      "Epoch 31/100\n",
      "52/52 [==============================] - 0s 4ms/step - loss: 41.5938 - mean_absolute_error: 41.5938 - val_loss: 46.4757 - val_mean_absolute_error: 46.4757\n",
      "Epoch 32/100\n",
      "52/52 [==============================] - 0s 5ms/step - loss: 41.8128 - mean_absolute_error: 41.8128 - val_loss: 48.5610 - val_mean_absolute_error: 48.5610\n",
      "Epoch 33/100\n",
      "52/52 [==============================] - 0s 5ms/step - loss: 39.9886 - mean_absolute_error: 39.9886 - val_loss: 44.4261 - val_mean_absolute_error: 44.4261\n",
      "Epoch 34/100\n",
      "52/52 [==============================] - 0s 6ms/step - loss: 41.1658 - mean_absolute_error: 41.1658 - val_loss: 43.9879 - val_mean_absolute_error: 43.9879\n",
      "Epoch 35/100\n",
      "52/52 [==============================] - 0s 5ms/step - loss: 43.2986 - mean_absolute_error: 43.2986 - val_loss: 43.8234 - val_mean_absolute_error: 43.8234\n",
      "Epoch 36/100\n",
      "52/52 [==============================] - 0s 5ms/step - loss: 42.1744 - mean_absolute_error: 42.1744 - val_loss: 45.4441 - val_mean_absolute_error: 45.4441\n",
      "Epoch 37/100\n",
      "52/52 [==============================] - 0s 5ms/step - loss: 40.2003 - mean_absolute_error: 40.2003 - val_loss: 44.9957 - val_mean_absolute_error: 44.9957\n",
      "Epoch 38/100\n",
      "52/52 [==============================] - 0s 5ms/step - loss: 40.7850 - mean_absolute_error: 40.7850 - val_loss: 49.3908 - val_mean_absolute_error: 49.3908\n",
      "Epoch 39/100\n",
      "52/52 [==============================] - 0s 5ms/step - loss: 42.1717 - mean_absolute_error: 42.1717 - val_loss: 44.0154 - val_mean_absolute_error: 44.0154\n",
      "Epoch 40/100\n",
      "52/52 [==============================] - 0s 5ms/step - loss: 41.1843 - mean_absolute_error: 41.1843 - val_loss: 43.7910 - val_mean_absolute_error: 43.7910\n",
      "Epoch 41/100\n",
      "52/52 [==============================] - 0s 6ms/step - loss: 41.4277 - mean_absolute_error: 41.4277 - val_loss: 43.8090 - val_mean_absolute_error: 43.8090\n",
      "Epoch 42/100\n",
      "52/52 [==============================] - 0s 5ms/step - loss: 41.8912 - mean_absolute_error: 41.8912 - val_loss: 47.1299 - val_mean_absolute_error: 47.1299\n",
      "Epoch 43/100\n",
      "52/52 [==============================] - 0s 5ms/step - loss: 39.9018 - mean_absolute_error: 39.9018 - val_loss: 45.3089 - val_mean_absolute_error: 45.3089\n",
      "Epoch 44/100\n",
      "52/52 [==============================] - 0s 5ms/step - loss: 41.6738 - mean_absolute_error: 41.6738 - val_loss: 43.6504 - val_mean_absolute_error: 43.6504\n",
      "Epoch 45/100\n",
      "52/52 [==============================] - 0s 5ms/step - loss: 40.4531 - mean_absolute_error: 40.4531 - val_loss: 43.9043 - val_mean_absolute_error: 43.9043\n",
      "Epoch 46/100\n",
      "52/52 [==============================] - 0s 4ms/step - loss: 40.6475 - mean_absolute_error: 40.6475 - val_loss: 43.7174 - val_mean_absolute_error: 43.7174\n",
      "Epoch 47/100\n",
      "52/52 [==============================] - 0s 4ms/step - loss: 40.6043 - mean_absolute_error: 40.6043 - val_loss: 44.0342 - val_mean_absolute_error: 44.0342\n",
      "Epoch 48/100\n",
      "52/52 [==============================] - 0s 5ms/step - loss: 40.4646 - mean_absolute_error: 40.4646 - val_loss: 49.0680 - val_mean_absolute_error: 49.0680\n",
      "Epoch 49/100\n",
      "52/52 [==============================] - 0s 4ms/step - loss: 41.0301 - mean_absolute_error: 41.0301 - val_loss: 47.3065 - val_mean_absolute_error: 47.3065\n",
      "Epoch 50/100\n",
      "52/52 [==============================] - 0s 4ms/step - loss: 40.7015 - mean_absolute_error: 40.7015 - val_loss: 44.6871 - val_mean_absolute_error: 44.6871\n",
      "Epoch 51/100\n",
      "52/52 [==============================] - 0s 5ms/step - loss: 41.0053 - mean_absolute_error: 41.0053 - val_loss: 49.0268 - val_mean_absolute_error: 49.0268\n",
      "Epoch 52/100\n",
      "52/52 [==============================] - 0s 5ms/step - loss: 42.0673 - mean_absolute_error: 42.0673 - val_loss: 43.6136 - val_mean_absolute_error: 43.6136\n",
      "Epoch 53/100\n",
      "52/52 [==============================] - 0s 4ms/step - loss: 42.2059 - mean_absolute_error: 42.2059 - val_loss: 47.9552 - val_mean_absolute_error: 47.9552\n",
      "Epoch 54/100\n",
      "52/52 [==============================] - 0s 4ms/step - loss: 40.9739 - mean_absolute_error: 40.9739 - val_loss: 43.8855 - val_mean_absolute_error: 43.8855\n",
      "Epoch 55/100\n",
      "52/52 [==============================] - 0s 4ms/step - loss: 39.4754 - mean_absolute_error: 39.4754 - val_loss: 49.3593 - val_mean_absolute_error: 49.3593\n",
      "Epoch 56/100\n",
      "52/52 [==============================] - 0s 5ms/step - loss: 39.4412 - mean_absolute_error: 39.4412 - val_loss: 43.7565 - val_mean_absolute_error: 43.7565\n",
      "Epoch 57/100\n",
      "52/52 [==============================] - 0s 4ms/step - loss: 39.9424 - mean_absolute_error: 39.9424 - val_loss: 43.4700 - val_mean_absolute_error: 43.4700\n",
      "Epoch 58/100\n",
      "52/52 [==============================] - 0s 4ms/step - loss: 40.8944 - mean_absolute_error: 40.8944 - val_loss: 54.1459 - val_mean_absolute_error: 54.1459\n",
      "Epoch 59/100\n",
      "52/52 [==============================] - 0s 5ms/step - loss: 44.1644 - mean_absolute_error: 44.1644 - val_loss: 45.6570 - val_mean_absolute_error: 45.6570\n",
      "Epoch 60/100\n",
      "52/52 [==============================] - 0s 4ms/step - loss: 39.9092 - mean_absolute_error: 39.9092 - val_loss: 43.9066 - val_mean_absolute_error: 43.9066\n",
      "Epoch 61/100\n",
      "52/52 [==============================] - 0s 5ms/step - loss: 39.5761 - mean_absolute_error: 39.5761 - val_loss: 46.4941 - val_mean_absolute_error: 46.4941\n",
      "Epoch 62/100\n",
      "52/52 [==============================] - 0s 5ms/step - loss: 40.7075 - mean_absolute_error: 40.7075 - val_loss: 44.1219 - val_mean_absolute_error: 44.1219\n",
      "Epoch 63/100\n",
      "52/52 [==============================] - 0s 5ms/step - loss: 38.9403 - mean_absolute_error: 38.9403 - val_loss: 47.5543 - val_mean_absolute_error: 47.5543\n",
      "Epoch 64/100\n",
      "52/52 [==============================] - 0s 5ms/step - loss: 40.8570 - mean_absolute_error: 40.8570 - val_loss: 45.6197 - val_mean_absolute_error: 45.6197\n",
      "Epoch 65/100\n",
      "52/52 [==============================] - 0s 5ms/step - loss: 39.6840 - mean_absolute_error: 39.6840 - val_loss: 43.6976 - val_mean_absolute_error: 43.6976\n",
      "Epoch 66/100\n",
      "52/52 [==============================] - 0s 5ms/step - loss: 39.6469 - mean_absolute_error: 39.6469 - val_loss: 44.4253 - val_mean_absolute_error: 44.4253\n",
      "Epoch 67/100\n",
      "52/52 [==============================] - 0s 5ms/step - loss: 39.0700 - mean_absolute_error: 39.0700 - val_loss: 44.1819 - val_mean_absolute_error: 44.1819\n",
      "Epoch 68/100\n",
      "52/52 [==============================] - 0s 5ms/step - loss: 39.5500 - mean_absolute_error: 39.5500 - val_loss: 46.3379 - val_mean_absolute_error: 46.3379\n",
      "Epoch 69/100\n",
      "52/52 [==============================] - 0s 5ms/step - loss: 39.8512 - mean_absolute_error: 39.8512 - val_loss: 46.0964 - val_mean_absolute_error: 46.0964\n",
      "Epoch 70/100\n",
      "52/52 [==============================] - 0s 4ms/step - loss: 39.9195 - mean_absolute_error: 39.9195 - val_loss: 43.8105 - val_mean_absolute_error: 43.8105\n",
      "Epoch 71/100\n",
      "52/52 [==============================] - 0s 5ms/step - loss: 41.3436 - mean_absolute_error: 41.3436 - val_loss: 50.8019 - val_mean_absolute_error: 50.8019\n",
      "Epoch 72/100\n",
      "52/52 [==============================] - 0s 5ms/step - loss: 41.4169 - mean_absolute_error: 41.4169 - val_loss: 50.4350 - val_mean_absolute_error: 50.4350\n",
      "Epoch 73/100\n",
      "52/52 [==============================] - 0s 5ms/step - loss: 40.6470 - mean_absolute_error: 40.6470 - val_loss: 43.8518 - val_mean_absolute_error: 43.8518\n",
      "Epoch 74/100\n",
      "52/52 [==============================] - 0s 5ms/step - loss: 39.7476 - mean_absolute_error: 39.7476 - val_loss: 43.2280 - val_mean_absolute_error: 43.2280\n",
      "Epoch 75/100\n",
      "52/52 [==============================] - 0s 5ms/step - loss: 41.4041 - mean_absolute_error: 41.4041 - val_loss: 44.5463 - val_mean_absolute_error: 44.5463\n",
      "Epoch 76/100\n",
      "52/52 [==============================] - 0s 5ms/step - loss: 39.1443 - mean_absolute_error: 39.1443 - val_loss: 43.2894 - val_mean_absolute_error: 43.2894\n",
      "Epoch 77/100\n",
      "52/52 [==============================] - 0s 5ms/step - loss: 39.2908 - mean_absolute_error: 39.2908 - val_loss: 43.6160 - val_mean_absolute_error: 43.6160\n",
      "Epoch 78/100\n",
      "52/52 [==============================] - 0s 5ms/step - loss: 38.8326 - mean_absolute_error: 38.8326 - val_loss: 43.9622 - val_mean_absolute_error: 43.9622\n",
      "Epoch 79/100\n",
      "52/52 [==============================] - 0s 4ms/step - loss: 40.4366 - mean_absolute_error: 40.4366 - val_loss: 47.4516 - val_mean_absolute_error: 47.4516\n",
      "Epoch 80/100\n",
      "52/52 [==============================] - 0s 4ms/step - loss: 39.3466 - mean_absolute_error: 39.3466 - val_loss: 43.2979 - val_mean_absolute_error: 43.2979\n",
      "Epoch 81/100\n",
      "52/52 [==============================] - 0s 5ms/step - loss: 39.2505 - mean_absolute_error: 39.2505 - val_loss: 43.9689 - val_mean_absolute_error: 43.9689\n",
      "Epoch 82/100\n",
      "52/52 [==============================] - 0s 6ms/step - loss: 42.2316 - mean_absolute_error: 42.2316 - val_loss: 54.6958 - val_mean_absolute_error: 54.6958\n",
      "Epoch 83/100\n",
      "52/52 [==============================] - 0s 5ms/step - loss: 41.4474 - mean_absolute_error: 41.4474 - val_loss: 43.2028 - val_mean_absolute_error: 43.2028\n",
      "Epoch 84/100\n",
      "52/52 [==============================] - 0s 5ms/step - loss: 38.6587 - mean_absolute_error: 38.6587 - val_loss: 45.0957 - val_mean_absolute_error: 45.0957\n",
      "Epoch 85/100\n",
      "52/52 [==============================] - 0s 5ms/step - loss: 39.7139 - mean_absolute_error: 39.7139 - val_loss: 43.5333 - val_mean_absolute_error: 43.5333\n",
      "Epoch 86/100\n",
      "52/52 [==============================] - 0s 5ms/step - loss: 40.1908 - mean_absolute_error: 40.1908 - val_loss: 43.9943 - val_mean_absolute_error: 43.9943\n",
      "Epoch 87/100\n",
      "52/52 [==============================] - 0s 5ms/step - loss: 38.9171 - mean_absolute_error: 38.9171 - val_loss: 43.7491 - val_mean_absolute_error: 43.7491\n",
      "Epoch 88/100\n",
      "52/52 [==============================] - 0s 5ms/step - loss: 42.4274 - mean_absolute_error: 42.4274 - val_loss: 47.1618 - val_mean_absolute_error: 47.1618\n",
      "Epoch 89/100\n",
      "52/52 [==============================] - 0s 5ms/step - loss: 39.2500 - mean_absolute_error: 39.2500 - val_loss: 44.7796 - val_mean_absolute_error: 44.7796\n",
      "Epoch 90/100\n",
      "52/52 [==============================] - 0s 5ms/step - loss: 38.5722 - mean_absolute_error: 38.5722 - val_loss: 43.3811 - val_mean_absolute_error: 43.3811\n",
      "Epoch 91/100\n",
      "52/52 [==============================] - 0s 4ms/step - loss: 41.1613 - mean_absolute_error: 41.1613 - val_loss: 52.6744 - val_mean_absolute_error: 52.6744\n"
     ]
    },
    {
     "name": "stdout",
     "output_type": "stream",
     "text": [
      "Epoch 92/100\n",
      "52/52 [==============================] - 0s 5ms/step - loss: 39.6095 - mean_absolute_error: 39.6095 - val_loss: 44.3763 - val_mean_absolute_error: 44.3763\n",
      "Epoch 93/100\n",
      "52/52 [==============================] - 0s 5ms/step - loss: 39.1480 - mean_absolute_error: 39.1480 - val_loss: 43.2455 - val_mean_absolute_error: 43.2455\n",
      "Epoch 94/100\n",
      "52/52 [==============================] - 0s 5ms/step - loss: 38.9929 - mean_absolute_error: 38.9929 - val_loss: 46.1273 - val_mean_absolute_error: 46.1273\n",
      "Epoch 95/100\n",
      "52/52 [==============================] - 0s 5ms/step - loss: 39.5440 - mean_absolute_error: 39.5440 - val_loss: 43.9110 - val_mean_absolute_error: 43.9110\n",
      "Epoch 96/100\n",
      "52/52 [==============================] - 0s 5ms/step - loss: 41.9932 - mean_absolute_error: 41.9932 - val_loss: 45.8781 - val_mean_absolute_error: 45.8781\n",
      "Epoch 97/100\n",
      "52/52 [==============================] - 0s 5ms/step - loss: 39.5399 - mean_absolute_error: 39.5399 - val_loss: 44.4290 - val_mean_absolute_error: 44.4290\n",
      "Epoch 98/100\n",
      "52/52 [==============================] - 0s 4ms/step - loss: 39.1951 - mean_absolute_error: 39.1951 - val_loss: 43.0761 - val_mean_absolute_error: 43.0761\n",
      "Epoch 99/100\n",
      "52/52 [==============================] - 0s 5ms/step - loss: 39.4555 - mean_absolute_error: 39.4555 - val_loss: 43.5647 - val_mean_absolute_error: 43.5647\n",
      "Epoch 100/100\n",
      "52/52 [==============================] - 0s 5ms/step - loss: 40.0033 - mean_absolute_error: 40.0033 - val_loss: 44.0942 - val_mean_absolute_error: 44.0942\n"
     ]
    }
   ],
   "source": [
    "NN_model = Sequential()\n",
    "\n",
    "# The Input Layer :\n",
    "NN_model.add(Dense(128, kernel_initializer='normal',input_dim = X_train.shape[1], activation='relu'))\n",
    "\n",
    "# The Hidden Layers :\n",
    "NN_model.add(Dense(256, kernel_initializer='normal',activation='relu'))\n",
    "NN_model.add(Dense(256, kernel_initializer='normal',activation='relu'))\n",
    "NN_model.add(Dense(256, kernel_initializer='normal',activation='relu'))\n",
    "\n",
    "# The Output Layer :\n",
    "NN_model.add(Dense(1, kernel_initializer='normal',activation='linear'))\n",
    "\n",
    "# Compile the network :\n",
    "NN_model.compile(loss='mean_absolute_error', optimizer='adam', metrics=['mean_absolute_error'])\n",
    "NN_model.summary()\n",
    "\n",
    "# Fitting the ANN to the Training set\n",
    "model_history=NN_model.fit(X_train, y_train,validation_split=0.33, batch_size = 10, epochs = 100)\n"
   ]
  },
  {
   "cell_type": "markdown",
   "metadata": {},
   "source": [
    "#### Model Evaluation"
   ]
  },
  {
   "cell_type": "code",
   "execution_count": 13,
   "metadata": {},
   "outputs": [],
   "source": [
    "prediction=NN_model.predict(X_test)"
   ]
  },
  {
   "cell_type": "code",
   "execution_count": 14,
   "metadata": {},
   "outputs": [
    {
     "data": {
      "text/plain": [
       "785    104.625000\n",
       "742    125.891667\n",
       "748    279.600000\n",
       "986    110.416667\n",
       "480     31.333333\n",
       "          ...    \n",
       "492     44.125000\n",
       "62     142.500000\n",
       "79      65.166667\n",
       "300     22.333333\n",
       "194      0.000000\n",
       "Name: PM 2.5, Length: 328, dtype: float64"
      ]
     },
     "execution_count": 14,
     "metadata": {},
     "output_type": "execute_result"
    }
   ],
   "source": [
    "y_test"
   ]
  },
  {
   "cell_type": "code",
   "execution_count": 15,
   "metadata": {},
   "outputs": [
    {
     "name": "stderr",
     "output_type": "stream",
     "text": [
      "D:\\Users\\ASUS\\anaconda3\\envs\\tensorflow\\lib\\site-packages\\seaborn\\distributions.py:2557: FutureWarning: `distplot` is a deprecated function and will be removed in a future version. Please adapt your code to use either `displot` (a figure-level function with similar flexibility) or `histplot` (an axes-level function for histograms).\n",
      "  warnings.warn(msg, FutureWarning)\n"
     ]
    },
    {
     "data": {
      "text/plain": [
       "<AxesSubplot:ylabel='Density'>"
      ]
     },
     "execution_count": 15,
     "metadata": {},
     "output_type": "execute_result"
    },
    {
     "data": {
      "image/png": "[encoded data removed]",
      "text/plain": [
       "<Figure size 432x288 with 1 Axes>"
      ]
     },
     "metadata": {
      "needs_background": "light"
     },
     "output_type": "display_data"
    }
   ],
   "source": [
    "sns.distplot(y_test.values.reshape(-1,1)-prediction)"
   ]
  },
  {
   "cell_type": "code",
   "execution_count": 28,
   "metadata": {},
   "outputs": [
    {
     "data": {
      "text/plain": [
       "<matplotlib.collections.PathCollection at 0x2045efcc048>"
      ]
     },
     "execution_count": 28,
     "metadata": {},
     "output_type": "execute_result"
    },
    {
     "data": {
      "image/png": "[encoded data removed]",
      "text/plain": [
       "<Figure size 432x288 with 1 Axes>"
      ]
     },
     "metadata": {
      "needs_background": "light"
     },
     "output_type": "display_data"
    }
   ],
   "source": [
    "plt.scatter(y_test,prediction)"
   ]
  },
  {
   "cell_type": "code",
   "execution_count": 50,
   "metadata": {},
   "outputs": [
    {
     "name": "stdout",
     "output_type": "stream",
     "text": [
      "MAE: 24.65656370121214\n",
      "MSE: 1677.0750087767076\n",
      "RMSE: 40.95210628010124\n"
     ]
    }
   ],
   "source": [
    "\n",
    "print('MAE:', metrics.mean_absolute_error(y_test, predictions))\n",
    "print('MSE:', metrics.mean_squared_error(y_test, predictions))\n",
    "print('RMSE:', np.sqrt(metrics.mean_squared_error(y_test, predictions)))"
   ]
  }
 ],
 "metadata": {
  "kernelspec": {
   "display_name": "Python 3",
   "language": "python",
   "name": "python3"
  },
  "language_info": {
   "codemirror_mode": {
    "name": "ipython",
    "version": 3
   },
   "file_extension": ".py",
   "mimetype": "text/x-python",
   "name": "python",
   "nbconvert_exporter": "python",
   "pygments_lexer": "ipython3",
   "version": "3.8.5"
  }
 },
 "nbformat": 4,
 "nbformat_minor": 2
}
